{
 "cells": [
  {
   "cell_type": "code",
   "execution_count": 1,
   "metadata": {},
   "outputs": [],
   "source": [
    "from PARAM import *\n",
    "\n",
    "from math import pi\n",
    "\n",
    "import csv\n",
    "import numpy as np\n",
    "import matplotlib.pyplot as plt\n",
    "\n",
    "\n",
    "from model_Trains import Trains\n",
    "from model_Aproximators import Aproximators\n",
    "from model_DataGenerator import DataGenerator\n",
    "\n",
    "from tqdm import tqdm\n",
    "\n",
    "from Base import *\n",
    "from testTrains import testTrains\n",
    "\n",
    "from model_Trace import Trace\n",
    "\n",
    "import os\n",
    "import csv"
   ]
  },
  {
   "cell_type": "code",
   "execution_count": 2,
   "metadata": {},
   "outputs": [],
   "source": [
    "steps = 1000\n",
    "\n",
    "trains = [0,1,2,3]\n",
    "dop1 = [0 for i in trains]\n",
    "dop2 = [0 for i in trains]\n",
    "maxEs = [0 for i in trains]\n",
    "srEs = [0 for i in trains]\n",
    "maxSKOs = [0 for i in trains]\n",
    "SKOs = [0 for i in trains]\n",
    "SKOs_S = [0 for i in trains]\n",
    "times = [0 for i in trains]"
   ]
  },
  {
   "cell_type": "code",
   "execution_count": 3,
   "metadata": {},
   "outputs": [
    {
     "name": "stderr",
     "output_type": "stream",
     "text": [
      "100%|██████████| 1000/1000 [21:08<00:00,  1.27s/it]\n"
     ]
    }
   ],
   "source": [
    "for i in tqdm(range(steps)):\n",
    "    orig, E2, E3, time = run(\n",
    "        testTrains(1/10),\n",
    "        DataGenerator[\"Generators\"][1](\n",
    "            epsU = epsU,\n",
    "            epsZR = epsZR,\n",
    "            epsZO = epsZO,\n",
    "            seed = i\n",
    "        ),\n",
    "        steps = length\n",
    "    )\n",
    "\n",
    "    SKO_0 = (sum([e**2 for e in E2[0]])/len(E2[0]))**0.5\n",
    "    for i, q in enumerate(zip(E2, time)):\n",
    "        e2, t = q\n",
    "        SKO = (sum([e**2 for e in e2])/len(e2))**0.5\n",
    "\n",
    "        dop1[i] += 1 if SKO < SKO_0 else 0\n",
    "        dop2[i] += 1 if sum(e2)/len(e2) < sum(E2[0])/len(E2[0]) else 0\n",
    "\n",
    "        maxEs[i] = max(maxEs[i], max(e2))\n",
    "        srEs[i] += sum(e2)/len(e2)\n",
    "        maxSKOs[i] = max(maxSKOs[i], SKO)\n",
    "\n",
    "        SKOs[i] += SKO\n",
    "        SKOs_S[i] += SKO/orig[2]\n",
    "        times[i] += sum(t)/len(t)\n",
    "\n",
    "for i in range(len(maxEs)):\n",
    "    srEs[i] /= steps\n",
    "    SKOs[i] /= steps\n",
    "    SKOs_S[i] /= steps\n",
    "    times[i] /= steps"
   ]
  },
  {
   "cell_type": "code",
   "execution_count": 4,
   "metadata": {},
   "outputs": [
    {
     "name": "stdout",
     "output_type": "stream",
     "text": [
      "Алгоритм\tОригина\tФурье\tРавноус\tТряск\t\n",
      "Лучше оригинального по средним\t0\t936\t890\t0\t\n",
      "Лучше оригинального по СКО\t0\t805\t740\t0\t\n",
      "Максимальная ошибка, м\t0,12084\t0,12174\t0,12174\t7068,49\t\n",
      "Средняя ошибка, м\t0,01197\t0,01195\t0,01195\t0,05380\t\n",
      "Максимальное СКО, м\t0,03064\t0,03070\t0,03070\t220,186\t\n",
      "Среднее СКО, м\t0,01421\t0,01420\t0,01420\t0,77900\t\n",
      "Среднее отношение СКО/S\t0,00052\t0,00052\t0,00052\t0,03130\t\n",
      "Среднее время итерации, мc\t0,04718\t0,14441\t0,06259\t0,09244\t\n"
     ]
    }
   ],
   "source": [
    "def printLine(line):\n",
    "    print(line[0], end='\\t')\n",
    "    for n in line[1:]:\n",
    "        print(\"{:.7}\".format(n), end='\\t')\n",
    "    print()\n",
    "    \n",
    "with open(\"table_result.csv\" , \"w\", encoding='cp1251',newline='') as csv_file:\n",
    "    writer = csv.writer(csv_file, delimiter=';', dialect=csv.excel_tab)\n",
    "\n",
    "    lines = [\n",
    "        [\"Алгоритм\", \"Оригинальный\", \"Фурье\", \"Равноускоренный\", \"Тряск\"],\n",
    "        [\"Лучше оригинального по средним\"] + [str(d).replace(\".\",\",\") for d in dop2],\n",
    "        [\"Лучше оригинального по СКО\"] + [str(d).replace(\".\",\",\") for d in dop1],\n",
    "        [\"Максимальная ошибка, м\"] + [str(d).replace(\".\",\",\") for d in maxEs],\n",
    "        [\"Средняя ошибка, м\"] + [str(d).replace(\".\",\",\") for d in srEs],\n",
    "        [\"Максимальное СКО, м\"] + [str(d).replace(\".\",\",\") for d in maxSKOs],\n",
    "        [\"Среднее СКО, м\"] + [str(d).replace(\".\",\",\") for d in SKOs],\n",
    "        [\"Среднее отношение СКО/S\"] + [str(d).replace(\".\",\",\") for d in SKOs_S],\n",
    "        [\"Среднее время итерации, мc\"] + [str(d*1000).replace(\".\",\",\") for d in times]\n",
    "    ]\n",
    "\n",
    "    for line in lines:\n",
    "        printLine(line)\n",
    "        writer.writerow(line)"
   ]
  }
 ],
 "metadata": {
  "kernelspec": {
   "display_name": "Python 3",
   "language": "python",
   "name": "python3"
  },
  "language_info": {
   "codemirror_mode": {
    "name": "ipython",
    "version": 3
   },
   "file_extension": ".py",
   "mimetype": "text/x-python",
   "name": "python",
   "nbconvert_exporter": "python",
   "pygments_lexer": "ipython3",
   "version": "3.7.7"
  }
 },
 "nbformat": 4,
 "nbformat_minor": 2
}
