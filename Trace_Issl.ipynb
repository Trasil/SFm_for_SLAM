{
 "cells": [
  {
   "cell_type": "code",
   "execution_count": 1,
   "metadata": {},
   "outputs": [],
   "source": [
    "from math import pi\n",
    "\n",
    "import csv\n",
    "import numpy as np\n",
    "import matplotlib.pyplot as plt\n",
    "\n",
    "\n",
    "from model_Trains import Trains\n",
    "from model_Aproximators import Aproximators\n",
    "from model_DataGenerator import DataGenerator\n",
    "\n",
    "\n",
    "from Base import *\n",
    "from testTrains import testTrains\n",
    "\n",
    "from model_Trace import Trace\n",
    "\n",
    "import os\n",
    "import csv"
   ]
  },
  {
   "cell_type": "code",
   "execution_count": null,
   "metadata": {},
   "outputs": [],
   "source": [
    "epsU = 1\n",
    "epsZR = 0.025\n",
    "epsZO = pi/2"
   ]
  },
  {
   "cell_type": "code",
   "execution_count": 2,
   "metadata": {},
   "outputs": [],
   "source": [
    "def draw(X, Y, folder, file):\n",
    "    plt.plot(X, Y)\n",
    "    plt.savefig(\"{}/{}.png\".format(folder, file))\n",
    "    plt.close()\n",
    "    \n",
    "def draw_err(X,Y, folder, file, ylim = [0, 0.1]):\n",
    "    plt.ylim(ylim[0],ylim[1])\n",
    "    plt.stem(X, Y, use_line_collection = True)\n",
    "    plt.savefig(\"{}/{}.png\".format(folder, file))\n",
    "    plt.close()\n",
    "    \n",
    "    \n",
    "def printTable(E, times, S, folder):\n",
    "    with open(\"{}/table.csv\".format(folder) , \"w\", encoding='cp1251',newline='') as csv_file:\n",
    "        writer = csv.writer(csv_file, delimiter=';', dialect=csv.excel_tab)\n",
    "        \n",
    "        \n",
    "        line = [\"Алгоритм\", \"Макс. откл-е\", \"СКО\", \"СКО/S\", \"Время шага\"]\n",
    "        writer.writerow(line)\n",
    "        \n",
    "        for name, e, t in zip([\"Ориг\", \"Фурье\", \"Уск\", \"Тряск\"], E, times):\n",
    "            #SKO = (sum([(_e)**2 for _e in e])/len(e))**0.5\n",
    "            SKO = sum(e)/len(e)\n",
    "            \n",
    "            line[0] = name\n",
    "            line[1] = str(max(e)).replace(\".\",\",\")\n",
    "            line[2] = str(SKO).replace(\".\",\",\")\n",
    "            line[3] = str(SKO/S).replace(\".\",\",\")\n",
    "            line[4] = str(sum(t)/len(t)).replace(\".\",\",\")\n",
    "            \n",
    "            writer.writerow(line)\n",
    "        writer.writerow([\"S= \", S])"
   ]
  },
  {
   "cell_type": "code",
   "execution_count": 3,
   "metadata": {},
   "outputs": [],
   "source": [
    "def go(traces, steps = 1200):\n",
    "    for trace in traces:\n",
    "        try:\n",
    "            os.mkdir(trace)\n",
    "        except:\n",
    "            pass\n",
    "\n",
    "\n",
    "        orig, E2, E3, times = run(\n",
    "            testTrains(1/10),\n",
    "            DataGenerator[\"Generators\"][0](\n",
    "                Trace[trace](),\n",
    "                epsU = epsU,\n",
    "                epsZR = epsZR,\n",
    "                epsZO = epsZO\n",
    "            ),\n",
    "            steps = steps\n",
    "        )\n",
    "        \n",
    "        T = [i for i in range(steps)]\n",
    "        draw(orig[0],orig[1], trace, \"1. XY\")\n",
    "        draw(T, orig[0], trace, \"2. Xt\")\n",
    "        draw(T, orig[1], trace, \"3. Yt\")\n",
    "\n",
    "        draw_err(T, E2[0], trace, \"4. Ориг\")\n",
    "        draw_err(T, E2[1], trace, \"5. Фурье\")\n",
    "        draw_err(T, E2[2], trace, \"6. Уск\")\n",
    "        draw_err(T, E2[3], trace, \"7. Тряск\")\n",
    "\n",
    "\n",
    "        printTable(E2, times, orig[2], trace)\n",
    "    print(\"Done\")"
   ]
  },
  {
   "cell_type": "code",
   "execution_count": 4,
   "metadata": {},
   "outputs": [
    {
     "name": "stdout",
     "output_type": "stream",
     "text": [
      "Done\n"
     ]
    }
   ],
   "source": [
    "traces = [\n",
    "    \"Line\",\n",
    "    \"Circle\",\n",
    "    \"Snake\",\n",
    "    \"Random\",\n",
    "]\n",
    "\n",
    "go(traces, 1200)"
   ]
  }
 ],
 "metadata": {
  "kernelspec": {
   "display_name": "Python 3",
   "language": "python",
   "name": "python3"
  },
  "language_info": {
   "codemirror_mode": {
    "name": "ipython",
    "version": 3
   },
   "file_extension": ".py",
   "mimetype": "text/x-python",
   "name": "python",
   "nbconvert_exporter": "python",
   "pygments_lexer": "ipython3",
   "version": "3.7.7"
  }
 },
 "nbformat": 4,
 "nbformat_minor": 2
}
