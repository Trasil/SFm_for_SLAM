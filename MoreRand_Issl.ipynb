{
 "cells": [
  {
   "cell_type": "code",
   "execution_count": 1,
   "metadata": {},
   "outputs": [],
   "source": [
    "from math import pi\n",
    "\n",
    "import csv\n",
    "import numpy as np\n",
    "import matplotlib.pyplot as plt\n",
    "\n",
    "\n",
    "from model_Trains import Trains\n",
    "from model_Aproximators import Aproximators\n",
    "from model_DataGenerator import DataGenerator\n",
    "\n",
    "\n",
    "from Base import *\n",
    "from testTrains import testTrains\n",
    "\n",
    "from model_Trace import Trace\n",
    "\n",
    "import os\n",
    "import csv"
   ]
  },
  {
   "cell_type": "code",
   "execution_count": 2,
   "metadata": {},
   "outputs": [],
   "source": [
    "epsU = 1\n",
    "epsZR = 0.025\n",
    "epsZO = pi/2\n",
    "\n",
    "steps = 10\n",
    "length = 1200"
   ]
  },
  {
   "cell_type": "code",
   "execution_count": 3,
   "metadata": {},
   "outputs": [],
   "source": [
    "trains = [0,1,2,3]\n",
    "dop = [0 for i in trains]\n",
    "maxEs = [0 for i in trains]\n",
    "maxSKOs = [0 for i in trains]\n",
    "SKOs = [0 for i in trains]\n",
    "SKOs_S = [0 for i in trains]\n",
    "times = [0 for i in trains]\n",
    "\n",
    "\n",
    "\n",
    "\n",
    "for i in range(steps):\n",
    "    orig, E2, E3, time = run(\n",
    "        testTrains(1/10),\n",
    "        DataGenerator[\"Generators\"][1](\n",
    "            epsU = epsU,\n",
    "            epsZR = epsZR,\n",
    "            epsZO = epsZO,            \n",
    "            seed = i\n",
    "        ),\n",
    "        steps = length\n",
    "    )\n",
    "    for i, q in enumerate(zip(E2, time)):\n",
    "        e2, t = q\n",
    "        SKO = sum(e2)/len(e2)\n",
    "        \n",
    "        dop[i] += 1 if SKO < sum(E2[0])/len(E2[0]) else 0\n",
    "        \n",
    "        maxEs[i] = max(maxEs[i], max(e2))\n",
    "        maxSKOs[i] = max(maxSKOs[i], SKO)\n",
    "        \n",
    "        SKOs[i] += SKO\n",
    "        SKOs_S[i] += SKO/orig[2]\n",
    "        times[i] += sum(t)/len(t)\n",
    "        \n",
    "for i in range(len(maxEs)):\n",
    "    SKOs[i] /= steps\n",
    "    SKOs_S[i] /= steps\n",
    "    times[i] /= steps"
   ]
  },
  {
   "cell_type": "code",
   "execution_count": 6,
   "metadata": {},
   "outputs": [],
   "source": [
    "maxEs, maxSKOs, SKOs, SKOs_S, times\n",
    "with open(\"table_result.csv\" , \"w\", encoding='cp1251',newline='') as csv_file:\n",
    "    writer = csv.writer(csv_file, delimiter=';', dialect=csv.excel_tab)\n",
    "    \n",
    "    lines = [\n",
    "        [\"Алгоритм\", \"Ориг\", \"Фурье\", \"Уск\", \"Тряск\"],\n",
    "        [\"Лучше оригинального\"] + [str(d).replace(\".\",\",\") for d in dop],\n",
    "        [\"Максимальная ошибка, м\"] + [str(d).replace(\".\",\",\") for d in maxEs],\n",
    "        [\"Максимальное СКО, м\"] + [str(d).replace(\".\",\",\") for d in maxSKOs],\n",
    "        [\"Среднее СКО, м\"] + [str(d).replace(\".\",\",\") for d in SKOs],\n",
    "        [\"Среднее отношение СКО/S\"] + [str(d).replace(\".\",\",\") for d in SKOs_S],\n",
    "        [\"Среднее время итерации, мc\"] + [str(d).replace(\".\",\",\") for d in times]\n",
    "    ]\n",
    "    \n",
    "    for line in lines:\n",
    "        writer.writerow(line)"
   ]
  }
 ],
 "metadata": {
  "kernelspec": {
   "display_name": "Python 3",
   "language": "python",
   "name": "python3"
  },
  "language_info": {
   "codemirror_mode": {
    "name": "ipython",
    "version": 3
   },
   "file_extension": ".py",
   "mimetype": "text/x-python",
   "name": "python",
   "nbconvert_exporter": "python",
   "pygments_lexer": "ipython3",
   "version": "3.7.7"
  }
 },
 "nbformat": 4,
 "nbformat_minor": 2
}
